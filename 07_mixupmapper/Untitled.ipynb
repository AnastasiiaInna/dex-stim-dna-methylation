{
 "cells": [
  {
   "cell_type": "code",
   "execution_count": 3,
   "id": "elementary-timer",
   "metadata": {},
   "outputs": [
    {
     "data": {
      "text/html": [
       "<table>\n",
       "<thead><tr><th scope=col>V1</th><th scope=col>V2</th><th scope=col>V3</th><th scope=col>V4</th><th scope=col>V5</th><th scope=col>V6</th></tr></thead>\n",
       "<tbody>\n",
       "\t<tr><td>Genotype                </td><td>OriginalLinkedTrait     </td><td>OriginalLinkedTraitScore</td><td>BestMatchingTrait       </td><td>BestMatchingTraitScore  </td><td>Mixup                   </td></tr>\n",
       "</tbody>\n",
       "</table>\n"
      ],
      "text/latex": [
       "\\begin{tabular}{r|llllll}\n",
       " V1 & V2 & V3 & V4 & V5 & V6\\\\\n",
       "\\hline\n",
       "\t Genotype                 & OriginalLinkedTrait      & OriginalLinkedTraitScore & BestMatchingTrait        & BestMatchingTraitScore   & Mixup                   \\\\\n",
       "\\end{tabular}\n"
      ],
      "text/markdown": [
       "\n",
       "| V1 | V2 | V3 | V4 | V5 | V6 |\n",
       "|---|---|---|---|---|---|\n",
       "| Genotype                 | OriginalLinkedTrait      | OriginalLinkedTraitScore | BestMatchingTrait        | BestMatchingTraitScore   | Mixup                    |\n",
       "\n"
      ],
      "text/plain": [
       "  V1       V2                  V3                       V4               \n",
       "1 Genotype OriginalLinkedTrait OriginalLinkedTraitScore BestMatchingTrait\n",
       "  V5                     V6   \n",
       "1 BestMatchingTraitScore Mixup"
      ]
     },
     "metadata": {},
     "output_type": "display_data"
    }
   ],
   "source": [
    "mixup.res.fn   <- \"/home/ahryhorzhevska/mpip/datasets/methylation/mixupmapper/out_mixupmapper/MixupMapper/BestMatchPerGenotype.txt\"\n",
    "mixup.genotype <- read.table(mixup.res.fn, stringsAsFactors = FALSE)\n",
    "mixup.genotype[1, ]"
   ]
  },
  {
   "cell_type": "code",
   "execution_count": 4,
   "id": "fabulous-popularity",
   "metadata": {},
   "outputs": [
    {
     "data": {
      "text/html": [
       "<table>\n",
       "<thead><tr><th scope=col>Genotype</th><th scope=col>OriginalLinkedTrait</th><th scope=col>OriginalLinkedTraitScore</th><th scope=col>BestMatchingTrait</th><th scope=col>BestMatchingTraitScore</th><th scope=col>Mixup</th></tr></thead>\n",
       "<tbody>\n",
       "\t<tr><td>Genotype                </td><td>OriginalLinkedTrait     </td><td>OriginalLinkedTraitScore</td><td>BestMatchingTrait       </td><td>BestMatchingTraitScore  </td><td>Mixup                   </td></tr>\n",
       "</tbody>\n",
       "</table>\n"
      ],
      "text/latex": [
       "\\begin{tabular}{r|llllll}\n",
       " Genotype & OriginalLinkedTrait & OriginalLinkedTraitScore & BestMatchingTrait & BestMatchingTraitScore & Mixup\\\\\n",
       "\\hline\n",
       "\t Genotype                 & OriginalLinkedTrait      & OriginalLinkedTraitScore & BestMatchingTrait        & BestMatchingTraitScore   & Mixup                   \\\\\n",
       "\\end{tabular}\n"
      ],
      "text/markdown": [
       "\n",
       "| Genotype | OriginalLinkedTrait | OriginalLinkedTraitScore | BestMatchingTrait | BestMatchingTraitScore | Mixup |\n",
       "|---|---|---|---|---|---|\n",
       "| Genotype                 | OriginalLinkedTrait      | OriginalLinkedTraitScore | BestMatchingTrait        | BestMatchingTraitScore   | Mixup                    |\n",
       "\n"
      ],
      "text/plain": [
       "  Genotype OriginalLinkedTrait OriginalLinkedTraitScore BestMatchingTrait\n",
       "1 Genotype OriginalLinkedTrait OriginalLinkedTraitScore BestMatchingTrait\n",
       "  BestMatchingTraitScore Mixup\n",
       "1 BestMatchingTraitScore Mixup"
      ]
     },
     "metadata": {},
     "output_type": "display_data"
    }
   ],
   "source": [
    "colnames(mixup.genotype) <- mixup.genotype[1, ]\n",
    "mixup.genotype[1, ]"
   ]
  },
  {
   "cell_type": "code",
   "execution_count": 6,
   "id": "molecular-liberia",
   "metadata": {},
   "outputs": [],
   "source": [
    "setwd(\"/home/ahryhorzhevska/mpip/code/dex-stim-dna-methylation/\")"
   ]
  },
  {
   "cell_type": "code",
   "execution_count": 10,
   "id": "ordinary-barrier",
   "metadata": {},
   "outputs": [],
   "source": [
    "input.parameters.fn <- \"input_parameters.csv\"\n",
    "\n",
    "input.parameters    <- read.csv(input.parameters.fn, sep = \";\", header = F, stringsAsFactors = FALSE )\n",
    "input.parameters    <- as.data.frame(input.parameters)\n",
    "\n",
    "\n",
    "for (row in 1:nrow(input.parameters))\n",
    "  assign(input.parameters[row, 1], input.parameters[row, 2])"
   ]
  },
  {
   "cell_type": "code",
   "execution_count": 11,
   "id": "fixed-scout",
   "metadata": {},
   "outputs": [],
   "source": [
    "x     <- load(pd_clean.fn)\n",
    "pheno <- get(x)"
   ]
  },
  {
   "cell_type": "code",
   "execution_count": 13,
   "id": "missing-accused",
   "metadata": {},
   "outputs": [
    {
     "name": "stderr",
     "output_type": "stream",
     "text": [
      "Loading required package: S4Vectors\n",
      "Warning message in library(package, lib.loc = lib.loc, character.only = TRUE, logical.return = TRUE, :\n",
      "\"there is no package called 'S4Vectors'\"ERROR while rich displaying an object: Error in .requirePackage(package): unable to find required package 'S4Vectors'\n",
      "\n",
      "Traceback:\n",
      "1. FUN(X[[i]], ...)\n",
      "2. tryCatch(withCallingHandlers({\n",
      " .     if (!mime %in% names(repr::mime2repr)) \n",
      " .         stop(\"No repr_* for mimetype \", mime, \" in repr::mime2repr\")\n",
      " .     rpr <- repr::mime2repr[[mime]](obj)\n",
      " .     if (is.null(rpr)) \n",
      " .         return(NULL)\n",
      " .     prepare_content(is.raw(rpr), rpr)\n",
      " . }, error = error_handler), error = outer_handler)\n",
      "3. tryCatchList(expr, classes, parentenv, handlers)\n",
      "4. tryCatchOne(expr, names, parentenv, handlers[[1L]])\n",
      "5. doTryCatch(return(expr), name, parentenv, handler)\n",
      "6. withCallingHandlers({\n",
      " .     if (!mime %in% names(repr::mime2repr)) \n",
      " .         stop(\"No repr_* for mimetype \", mime, \" in repr::mime2repr\")\n",
      " .     rpr <- repr::mime2repr[[mime]](obj)\n",
      " .     if (is.null(rpr)) \n",
      " .         return(NULL)\n",
      " .     prepare_content(is.raw(rpr), rpr)\n",
      " . }, error = error_handler)\n",
      "7. repr::mime2repr[[mime]](obj)\n",
      "8. .extendsForS3(structure(\"DFrame\", package = \"S4Vectors\"))\n",
      "9. extends(Class, maybe = FALSE)\n",
      "10. getClassDef(class1)\n",
      "11. .requirePackage(package)\n",
      "12. stop(gettextf(\"unable to find required package %s\", sQuote(package)), \n",
      "  .     domain = NA)\n"
     ]
    }
   ],
   "source": [
    "pheno"
   ]
  },
  {
   "cell_type": "code",
   "execution_count": null,
   "id": "australian-diameter",
   "metadata": {},
   "outputs": [],
   "source": []
  }
 ],
 "metadata": {
  "kernelspec": {
   "display_name": "R",
   "language": "R",
   "name": "ir"
  },
  "language_info": {
   "codemirror_mode": "r",
   "file_extension": ".r",
   "mimetype": "text/x-r-source",
   "name": "R",
   "pygments_lexer": "r",
   "version": "3.6.1"
  }
 },
 "nbformat": 4,
 "nbformat_minor": 5
}
